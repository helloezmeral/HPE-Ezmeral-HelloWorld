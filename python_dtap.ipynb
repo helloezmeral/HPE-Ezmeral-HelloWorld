{
 "cells": [
  {
   "cell_type": "markdown",
   "id": "thorough-things",
   "metadata": {},
   "source": [
    "# Python - pyspark for dtap"
   ]
  },
  {
   "cell_type": "markdown",
   "id": "psychological-comment",
   "metadata": {},
   "source": [
    "## COVID19 HK dataset"
   ]
  },
  {
   "cell_type": "code",
   "execution_count": 3,
   "id": "prostate-english",
   "metadata": {},
   "outputs": [],
   "source": [
    "from pyspark import SparkConf, SparkContext\n",
    "conf = SparkConf().set(\"spark.jars\", \"/opt/bdfs/bluedata-dtap.jar\")\n",
    "sc = SparkContext( conf=conf)\n",
    "sc._jsc.hadoopConfiguration().set('fs.dtap.impl', 'com.bluedata.hadoop.bdfs.Bdfs')\n",
    "sc._jsc.hadoopConfiguration().set('fs.AbstractFileSystem.dtap.impl', 'com.bluedata.hadoop.bdfs.BdAbstractFS')"
   ]
  },
  {
   "cell_type": "code",
   "execution_count": 4,
   "id": "charming-campus",
   "metadata": {},
   "outputs": [
    {
     "data": {
      "text/plain": [
       "['Using HPE Ezmeral Container Platform',\n",
       " 'Learner Guide',\n",
       " 'Rev. 21.11',\n",
       " '',\n",
       " '\\x0c\\uf6d9 Copyright 2021 Hewlett Packard Enterprise Development LP']"
      ]
     },
     "execution_count": 4,
     "metadata": {},
     "output_type": "execute_result"
    }
   ],
   "source": [
    "text = sc.textFile(\"dtap://TenantStorage/HPE_Ezmeral_Learner_Guide_Final.txt\")\n",
    "text.take(5)"
   ]
  },
  {
   "cell_type": "markdown",
   "id": "iraqi-technology",
   "metadata": {},
   "source": [
    "## Creating the SparkSession"
   ]
  },
  {
   "cell_type": "code",
   "execution_count": 5,
   "id": "involved-leeds",
   "metadata": {},
   "outputs": [],
   "source": [
    "# initiate Spark Context\n",
    "from pyspark.sql import SparkSession\n",
    "\n",
    "spark = SparkSession.builder.master(\"local\").getOrCreate()\n"
   ]
  },
  {
   "cell_type": "code",
   "execution_count": 6,
   "id": "great-thunder",
   "metadata": {},
   "outputs": [],
   "source": [
    "df = spark.read.csv('dtap://TenantStorage/enhanced_sur_covid_19_eng_.csv', header=True, inferSchema=True)"
   ]
  },
  {
   "cell_type": "code",
   "execution_count": 7,
   "id": "psychological-fence",
   "metadata": {},
   "outputs": [
    {
     "name": "stdout",
     "output_type": "stream",
     "text": [
      "root\n",
      " |-- Case no.: integer (nullable = true)\n",
      " |-- Report date: string (nullable = true)\n",
      " |-- Date of onset: string (nullable = true)\n",
      " |-- Gender: string (nullable = true)\n",
      " |-- Age: integer (nullable = true)\n",
      " |-- Name of hospital admitted: string (nullable = true)\n",
      " |-- Hospitalised/Discharged/Deceased: string (nullable = true)\n",
      " |-- HK/Non-HK resident: string (nullable = true)\n",
      " |-- Case classification*: string (nullable = true)\n",
      " |-- Confirmed/probable: string (nullable = true)\n",
      "\n",
      "+--------+-----------+-------------+------+---+-------------------------+--------------------------------+------------------+--------------------+------------------+\n",
      "|Case no.|Report date|Date of onset|Gender|Age|Name of hospital admitted|Hospitalised/Discharged/Deceased|HK/Non-HK resident|Case classification*|Confirmed/probable|\n",
      "+--------+-----------+-------------+------+---+-------------------------+--------------------------------+------------------+--------------------+------------------+\n",
      "|       1| 23/01/2020|   21/01/2020|     M| 39|                     null|                      Discharged|   Non-HK resident|       Imported case|         Confirmed|\n",
      "|       2| 23/01/2020|   18/01/2020|     M| 56|                     null|                      Discharged|       HK resident|       Imported case|         Confirmed|\n",
      "|       3| 24/01/2020|   20/01/2020|     F| 62|                     null|                      Discharged|   Non-HK resident|       Imported case|         Confirmed|\n",
      "|       4| 24/01/2020|   23/01/2020|     F| 62|                     null|                      Discharged|   Non-HK resident|       Imported case|         Confirmed|\n",
      "|       5| 24/01/2020|   23/01/2020|     M| 63|                     null|                      Discharged|   Non-HK resident|       Imported case|         Confirmed|\n",
      "|       6| 26/01/2020|   21/01/2020|     M| 47|                     null|                      Discharged|       HK resident|       Imported case|         Confirmed|\n",
      "|       7| 26/01/2020|   21/01/2020|     F| 68|                     null|                      Discharged|       HK resident|       Imported case|         Confirmed|\n",
      "|       8| 26/01/2020|   25/01/2020|     M| 64|                     null|                      Discharged|   Non-HK resident|       Imported case|         Confirmed|\n",
      "|       9| 29/01/2020|   25/01/2020|     F| 73|                     null|                      Discharged|   Non-HK resident|       Imported case|         Confirmed|\n",
      "|      10| 29/01/2020|   25/01/2020|     M| 72|                     null|                      Discharged|   Non-HK resident|       Imported case|         Confirmed|\n",
      "|      11| 30/01/2020|   28/01/2020|     F| 37|                     null|                      Discharged|       HK resident|Epidemiologically...|         Confirmed|\n",
      "|      12| 30/01/2020|   22/01/2020|     M| 75|                     null|                      Discharged|       HK resident| Possibly local case|         Confirmed|\n",
      "|      13| 31/01/2020|   29/01/2020|     M| 39|                     null|                        Deceased|       HK resident|       Imported case|         Confirmed|\n",
      "|      14| 01/02/2020|   23/01/2020|     M| 80|                     null|                      Discharged|       HK resident|       Imported case|         Confirmed|\n",
      "|      15| 02/02/2020|   01/02/2020|     F| 72|                     null|                      Discharged|       HK resident|Epidemiologically...|         Confirmed|\n",
      "|      16| 04/02/2020|   23/01/2020|     F| 64|                     null|                      Discharged|       HK resident|          Local case|         Confirmed|\n",
      "|      17| 04/02/2020|   22/01/2020|     M| 60|                     null|                      Discharged|       HK resident|          Local case|         Confirmed|\n",
      "|      18| 04/02/2020|   28/01/2020|     M| 25|                     null|                      Discharged|       HK resident|          Local case|         Confirmed|\n",
      "|      19| 05/02/2020|   30/01/2020|     F| 28|                     null|                      Discharged|       HK resident|Epidemiologically...|         Confirmed|\n",
      "|      20| 05/02/2020|   04/02/2020|     F| 56|                     null|                      Discharged|       HK resident|Epidemiologically...|         Confirmed|\n",
      "+--------+-----------+-------------+------+---+-------------------------+--------------------------------+------------------+--------------------+------------------+\n",
      "only showing top 20 rows\n",
      "\n"
     ]
    }
   ],
   "source": [
    "df.count() # return number of data\n",
    "df.printSchema()\n",
    "df.show() # only show top 20 result\n"
   ]
  },
  {
   "cell_type": "code",
   "execution_count": 14,
   "id": "abstract-printer",
   "metadata": {},
   "outputs": [
    {
     "name": "stdout",
     "output_type": "stream",
     "text": [
      "+--------+------+---+\n",
      "|Case no.|Gender|Age|\n",
      "+--------+------+---+\n",
      "|       1|     M| 39|\n",
      "|      13|     M| 39|\n",
      "|     146|     M| 39|\n",
      "|     308|     M| 39|\n",
      "|     343|     M| 39|\n",
      "|     375|     M| 39|\n",
      "|     432|     M| 39|\n",
      "|     487|     M| 39|\n",
      "|     638|     M| 39|\n",
      "|     719|     M| 39|\n",
      "|     769|     M| 39|\n",
      "|     877|     M| 39|\n",
      "|     972|     M| 39|\n",
      "|    1028|     M| 39|\n",
      "|    1098|     M| 39|\n",
      "|    1190|     M| 39|\n",
      "|    1747|     M| 39|\n",
      "|    2024|     M| 39|\n",
      "|    2045|     M| 39|\n",
      "|    2599|     M| 39|\n",
      "+--------+------+---+\n",
      "only showing top 20 rows\n",
      "\n",
      "+--------+-----------+-------------+------+---+-------------------------+--------------------------------+------------------+--------------------+------------------+\n",
      "|Case no.|Report date|Date of onset|Gender|Age|Name of hospital admitted|Hospitalised/Discharged/Deceased|HK/Non-HK resident|Case classification*|Confirmed/probable|\n",
      "+--------+-----------+-------------+------+---+-------------------------+--------------------------------+------------------+--------------------+------------------+\n",
      "|    2000| 21/07/2020|   17/07/2020|     M| 61|                     null|                      Discharged|       HK resident|          Local case|         Confirmed|\n",
      "+--------+-----------+-------------+------+---+-------------------------+--------------------------------+------------------+--------------------+------------------+\n",
      "\n",
      "+------+-----------------+\n",
      "|Gender|         avg(Age)|\n",
      "+------+-----------------+\n",
      "|     F|44.50656082941843|\n",
      "|     M|43.83912506614923|\n",
      "+------+-----------------+\n",
      "\n"
     ]
    }
   ],
   "source": [
    "df.select(df[\"`Case no.`\"], df[\"Gender\"], df[\"Age\"]).filter('Age = 39').filter('Gender = \"M\"').show()\n",
    "df.filter('`Case no.` = 2000').show()\n",
    "df.groupBy(\"Gender\").mean(\"Age\").show()"
   ]
  },
  {
   "cell_type": "code",
   "execution_count": 9,
   "id": "respiratory-penguin",
   "metadata": {},
   "outputs": [
    {
     "name": "stdout",
     "output_type": "stream",
     "text": [
      "+-------------------------------------------------+\n",
      "|Case classification*                             |\n",
      "+-------------------------------------------------+\n",
      "|Local case                                       |\n",
      "|Epidemiologically linked with imported case      |\n",
      "|Epidemiologically linked with possibly local case|\n",
      "|Epidemiologically linked with local case         |\n",
      "|Imported case                                    |\n",
      "|Possibly local case                              |\n",
      "+-------------------------------------------------+\n",
      "\n"
     ]
    }
   ],
   "source": [
    "df.select(df[\"Case classification*\"]).distinct().show(truncate = False)"
   ]
  },
  {
   "cell_type": "code",
   "execution_count": 18,
   "id": "aware-boring",
   "metadata": {},
   "outputs": [
    {
     "name": "stdout",
     "output_type": "stream",
     "text": [
      "+---+-----+\n",
      "|Age|count|\n",
      "+---+-----+\n",
      "| 31|  206|\n",
      "| 85|   33|\n",
      "| 65|  155|\n",
      "| 53|  175|\n",
      "| 78|   38|\n",
      "| 34|  202|\n",
      "| 81|   36|\n",
      "| 28|  205|\n",
      "| 76|   68|\n",
      "| 26|  195|\n",
      "| 27|  195|\n",
      "| 44|  200|\n",
      "| 12|   50|\n",
      "| 91|   15|\n",
      "| 22|  156|\n",
      "| 93|    5|\n",
      "| 47|  180|\n",
      "|  1|   68|\n",
      "| 52|  188|\n",
      "| 13|   42|\n",
      "+---+-----+\n",
      "only showing top 20 rows\n",
      "\n"
     ]
    }
   ],
   "source": [
    "df.groupBy(\"Age\").count().show()"
   ]
  },
  {
   "cell_type": "code",
   "execution_count": 61,
   "id": "popular-mississippi",
   "metadata": {},
   "outputs": [
    {
     "name": "stdout",
     "output_type": "stream",
     "text": [
      "+---------+-----+\n",
      "|Age_Group|count|\n",
      "+---------+-----+\n",
      "|      0.0|  290|\n",
      "|     10.0|  477|\n",
      "|     20.0| 1194|\n",
      "|     30.0| 2007|\n",
      "|     40.0| 2143|\n",
      "|     50.0| 1842|\n",
      "|     60.0| 1943|\n",
      "|     70.0| 1236|\n",
      "|     80.0|  480|\n",
      "|     90.0|  211|\n",
      "|    100.0|   19|\n",
      "+---------+-----+\n",
      "\n"
     ]
    }
   ],
   "source": [
    "from pyspark.sql.functions import round\n",
    "df.select('*', (round(df.Age/10)*10).alias(\"Age_Group\")).groupBy(\"Age_Group\").count().sort(\"Age_Group\").show()"
   ]
  },
  {
   "cell_type": "code",
   "execution_count": null,
   "id": "amateur-escape",
   "metadata": {},
   "outputs": [],
   "source": []
  }
 ],
 "metadata": {
  "kernelspec": {
   "display_name": "Python 3",
   "language": "python",
   "name": "python3"
  },
  "language_info": {
   "codemirror_mode": {
    "name": "ipython",
    "version": 3
   },
   "file_extension": ".py",
   "mimetype": "text/x-python",
   "name": "python",
   "nbconvert_exporter": "python",
   "pygments_lexer": "ipython3",
   "version": "3.8.5"
  }
 },
 "nbformat": 4,
 "nbformat_minor": 5
}
