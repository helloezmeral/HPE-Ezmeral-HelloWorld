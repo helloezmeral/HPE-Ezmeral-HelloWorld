{
 "cells": [
  {
   "cell_type": "markdown",
   "metadata": {},
   "source": [
    "# Hello World Workflow"
   ]
  },
  {
   "cell_type": "markdown",
   "metadata": {},
   "source": [
    "# Step 1: Data Preparation & Put Data into ProjRepo"
   ]
  },
  {
   "cell_type": "code",
   "execution_count": 1,
   "metadata": {},
   "outputs": [],
   "source": [
    "from sklearn import datasets\n",
    "X, y= datasets.load_iris(return_X_y=True)"
   ]
  },
  {
   "cell_type": "code",
   "execution_count": 2,
   "metadata": {},
   "outputs": [],
   "source": [
    "import numpy as np"
   ]
  },
  {
   "cell_type": "code",
   "execution_count": 3,
   "metadata": {},
   "outputs": [],
   "source": [
    "filename_data_X = \"/bd-fs-mnt/kc-repo/data/helloworld_X.csv\"\n",
    "filename_data_y = \"/bd-fs-mnt/kc-repo/data/helloworld_y.csv\""
   ]
  },
  {
   "cell_type": "code",
   "execution_count": 4,
   "metadata": {},
   "outputs": [],
   "source": [
    "np.savetxt(filename_data_X,X,delimiter=\",\")\n",
    "np.savetxt(filename_data_y,y,delimiter=\",\")"
   ]
  },
  {
   "cell_type": "markdown",
   "metadata": {},
   "source": [
    "# Step 2: Submit code to Training Cluster for Training"
   ]
  },
  {
   "cell_type": "code",
   "execution_count": 5,
   "metadata": {},
   "outputs": [
    {
     "name": "stdout",
     "output_type": "stream",
     "text": [
      "  Cluster ID  Training Cluster    ML Engine\n",
      "------------  ------------------  -----------\n",
      "           3  pythoncpu           python\n"
     ]
    }
   ],
   "source": [
    "%attachments"
   ]
  },
  {
   "cell_type": "code",
   "execution_count": 6,
   "metadata": {},
   "outputs": [
    {
     "name": "stdout",
     "output_type": "stream",
     "text": [
      "History URL: http://hpecp-6.hpecplocal:10001/history/13\n"
     ]
    }
   ],
   "source": [
    "%%train 3\n",
    "\n",
    "from sklearn import svm\n",
    "import numpy as np\n",
    "\n",
    "filename_data_X = \"/bd-fs-mnt/kc-repo/data/helloworld_X.csv\"\n",
    "filename_data_y = \"/bd-fs-mnt/kc-repo/data/helloworld_y.csv\"\n",
    "\n",
    "\n",
    "X = np.loadtxt(open(filename_data_X,\"rb\"),delimiter=\",\")\n",
    "y = np.loadtxt(open(filename_data_y,\"rb\"),delimiter=\",\")\n",
    "\n",
    "model = svm.SVC()\n",
    "model.fit(X, y)\n",
    "\n",
    "\n",
    "import pickle\n",
    "# save the model to disk\n",
    "filename = \"/bd-fs-mnt/kc-repo/models/svm.pickle\"\n",
    "pickle.dump(model, open(filename, 'wb'))"
   ]
  },
  {
   "cell_type": "code",
   "execution_count": 7,
   "metadata": {
    "scrolled": true
   },
   "outputs": [
    {
     "name": "stdout",
     "output_type": "stream",
     "text": [
      "Job Status: Finished\n",
      "\n",
      "\n",
      "\n"
     ]
    }
   ],
   "source": [
    "%logs --url http://hpecp-6.hpecplocal:10001/history/13"
   ]
  },
  {
   "cell_type": "markdown",
   "metadata": {},
   "source": [
    "# Step 3: Test the Trained model locally"
   ]
  },
  {
   "cell_type": "code",
   "execution_count": 11,
   "metadata": {},
   "outputs": [
    {
     "data": {
      "text/plain": [
       "array([[5.5, 2.6, 4.4, 1.2]])"
      ]
     },
     "execution_count": 11,
     "metadata": {},
     "output_type": "execute_result"
    }
   ],
   "source": [
    "X[90:91]"
   ]
  },
  {
   "cell_type": "code",
   "execution_count": 12,
   "metadata": {},
   "outputs": [
    {
     "data": {
      "text/plain": [
       "array([1.])"
      ]
     },
     "execution_count": 12,
     "metadata": {},
     "output_type": "execute_result"
    }
   ],
   "source": [
    "filename = \"/bd-fs-mnt/kc-repo/models/svm.pickle\"\n",
    "model2 = pickle.load(open(filename, 'rb'))\n",
    "model2.predict(X[90:91])"
   ]
  },
  {
   "cell_type": "code",
   "execution_count": 13,
   "metadata": {},
   "outputs": [
    {
     "data": {
      "text/plain": [
       "1"
      ]
     },
     "execution_count": 13,
     "metadata": {},
     "output_type": "execute_result"
    }
   ],
   "source": [
    "y[90]"
   ]
  },
  {
   "cell_type": "markdown",
   "metadata": {},
   "source": [
    "# Step 4: Preparing the Scoring.py"
   ]
  },
  {
   "cell_type": "code",
   "execution_count": 10,
   "metadata": {},
   "outputs": [
    {
     "name": "stdout",
     "output_type": "stream",
     "text": [
      "The prediction is  1.0\n"
     ]
    }
   ],
   "source": [
    "import numpy as np\n",
    "import os\n",
    "import pickle\n",
    "import json\n",
    "import sys \n",
    "\n",
    "filename = \"/bd-fs-mnt/kc-repo/models/svm.pickle\"\n",
    "model = pickle.load(open(filename, 'rb'))\n",
    "\n",
    "# -----Reading from commandline from deployment as json\n",
    "cli_input = {'x1': 5.5, 'x2': 2.6, 'x3': 4.4, 'x4': 1.2}\n",
    "# cli_input = json.loads(sys.argv[1])\n",
    "\n",
    "# my input for SVM \n",
    "my_input = np.array(list(cli_input.values()), ndmin=2)\n",
    "\n",
    "myPredict = model.predict(my_input)\n",
    "print(\"The prediction is \", myPredict[0])"
   ]
  },
  {
   "cell_type": "markdown",
   "metadata": {},
   "source": [
    "## Write the file back to the Repository"
   ]
  },
  {
   "cell_type": "code",
   "execution_count": 16,
   "metadata": {},
   "outputs": [
    {
     "name": "stdout",
     "output_type": "stream",
     "text": [
      "Writing /bd-fs-mnt/kc-repo/code/SVMScoring2.py\n"
     ]
    }
   ],
   "source": [
    "%%writefile /bd-fs-mnt/kc-repo/code/SVMScoring2.py\n",
    "\n",
    "import numpy as np\n",
    "import os\n",
    "import pickle\n",
    "import json\n",
    "import sys \n",
    "\n",
    "filename = \"/bd-fs-mnt/kc-repo/models/svm.pickle\"\n",
    "model = pickle.load(open(filename, 'rb'))\n",
    "\n",
    "# -----Reading from commandline from deployment as json\n",
    "# cli_input = {'x1': 5.5, 'x2': 2.6, 'x3': 4.4, 'x4': 1.2}\n",
    "cli_input = json.loads(sys.argv[1])\n",
    "\n",
    "# my input for SVM \n",
    "my_input = np.array(list(cli_input.values()), ndmin=2)\n",
    "\n",
    "myPredict = model.predict(my_input)\n",
    "print(\"The prediction is \", myPredict[0])\n"
   ]
  },
  {
   "cell_type": "markdown",
   "metadata": {},
   "source": [
    "# After Deployment"
   ]
  },
  {
   "cell_type": "markdown",
   "metadata": {},
   "source": [
    "# Step 5: Use the Deployed Model"
   ]
  },
  {
   "cell_type": "code",
   "execution_count": 21,
   "metadata": {},
   "outputs": [
    {
     "data": {
      "text/plain": [
       "{'input': \"{''x1'': 5.5, ''x2'': 2.6, ''x3'': 4.4, ''x4'': 1.2}\",\n",
       " 'log_url': 'http://el4k-gateway.hpeilab.com:10023/logs/N15_9',\n",
       " 'node': 'hpecp-14.hpecplocal',\n",
       " 'output': 'The prediction is  1.0\\n\\n',\n",
       " 'pid': '2254',\n",
       " 'qid': 'N15_9',\n",
       " 'request_url': 'http://el4k-gateway.hpeilab.com:10023/history/N15_9',\n",
       " 'status': 'Finished'}"
      ]
     },
     "execution_count": 21,
     "metadata": {},
     "output_type": "execute_result"
    }
   ],
   "source": [
    "import requests\n",
    "import pprint\n",
    "import json\n",
    "\n",
    "payload = {}\n",
    "payload[\"use_scoring\"] = True\n",
    "payload[\"scoring_args\"] = {'x1': 5.5, 'x2': 2.6, 'x3': 4.4, 'x4': 1.2}\n",
    "\n",
    "\n",
    "url = \"http://el4k-gateway.hpeilab.com:10023/svm-helloworld/v0.1/predict\"\n",
    "headers = {\n",
    "  'Content-Type': 'application/json',\n",
    "  'X-AUTH-TOKEN': 'og3YZ8cCqi'\n",
    "}\n",
    "response = requests.request(\"POST\", url, headers=headers, data=json.dumps(payload))\n",
    "\n",
    "json.loads(response.text)\n"
   ]
  }
 ],
 "metadata": {
  "kernelspec": {
   "display_name": "Python 3",
   "language": "python",
   "name": "python3"
  },
  "language_info": {
   "codemirror_mode": {
    "name": "ipython",
    "version": 3
   },
   "file_extension": ".py",
   "mimetype": "text/x-python",
   "name": "python",
   "nbconvert_exporter": "python",
   "pygments_lexer": "ipython3",
   "version": "3.8.5"
  }
 },
 "nbformat": 4,
 "nbformat_minor": 4
}
