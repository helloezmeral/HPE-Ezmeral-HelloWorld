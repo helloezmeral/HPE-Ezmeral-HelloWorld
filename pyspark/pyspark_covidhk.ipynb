{
 "cells": [
  {
   "cell_type": "markdown",
   "id": "66c7095f-af79-4feb-9ed3-dc73a1414a79",
   "metadata": {},
   "source": [
    "# Interacting with dtap"
   ]
  },
  {
   "cell_type": "markdown",
   "id": "778c24e5-18c0-4542-9d77-ce2a33a794cf",
   "metadata": {},
   "source": [
    "## Accessing using the hdfs command"
   ]
  },
  {
   "cell_type": "code",
   "execution_count": 1,
   "id": "25af83dd-76da-4fea-966f-494f73cdb9a2",
   "metadata": {},
   "outputs": [
    {
     "name": "stdout",
     "output_type": "stream",
     "text": [
      "Found 4 items\n",
      "-rwxrwxrwx   3 cenz domain users       8828 2021-06-15 06:26 dtap://TenantStorage/.enhanced_sur_covid_19_eng.csv.crc\n",
      "-rwxrwxrwx   3 cenz domain users         12 2021-06-15 06:21 dtap://TenantStorage/.hello.txt.crc\n",
      "-rwxrwxrwx   3 cenz domain users    1128906 2021-06-15 06:26 dtap://TenantStorage/enhanced_sur_covid_19_eng.csv\n",
      "-rwxrwxrwx   3 cenz domain users         11 2021-06-15 06:21 dtap://TenantStorage/hello.txt\n"
     ]
    }
   ],
   "source": [
    "# jupyter\n",
    "!hdfs dfs -ls dtap://TenantStorage/"
   ]
  },
  {
   "cell_type": "markdown",
   "id": "a98a8c99-d43a-4ef8-bdc8-736e360b14a6",
   "metadata": {},
   "source": [
    "## Into the pyspark"
   ]
  },
  {
   "cell_type": "code",
   "execution_count": 2,
   "id": "7a2e4d51-7507-43cb-b463-63f808f2d57c",
   "metadata": {},
   "outputs": [],
   "source": [
    "# python\n",
    "from pyspark import SparkConf, SparkContext"
   ]
  },
  {
   "cell_type": "code",
   "execution_count": 3,
   "id": "67fe86dc-416a-420c-8df8-89b4c5fcd6bd",
   "metadata": {},
   "outputs": [],
   "source": [
    "# Specify the path of the jars files\n",
    "conf = SparkConf().set(\"spark.jars\", \"/opt/bdfs/bluedata-dtap.jar\")\n",
    "sc = SparkContext( conf=conf)"
   ]
  },
  {
   "cell_type": "code",
   "execution_count": 4,
   "id": "1ed0d86c-92e2-40c9-97f4-4b81dcc1956f",
   "metadata": {},
   "outputs": [],
   "source": [
    "# Specify the Hadoop configurations.\n",
    "sc._jsc.hadoopConfiguration().set('fs.dtap.impl', 'com.bluedata.hadoop.bdfs.Bdfs')\n",
    "sc._jsc.hadoopConfiguration().set('fs.AbstractFileSystem.dtap.impl', 'com.bluedata.hadoop.bdfs.BdAbstractFS')"
   ]
  },
  {
   "cell_type": "code",
   "execution_count": 5,
   "id": "0050a305-a08f-45b4-b10a-b0c6f27a89e5",
   "metadata": {},
   "outputs": [
    {
     "data": {
      "text/plain": [
       "['Hello', 'World']"
      ]
     },
     "execution_count": 5,
     "metadata": {},
     "output_type": "execute_result"
    }
   ],
   "source": [
    "# Commands for reading DataTap file.\n",
    "text = sc.textFile(\"dtap://TenantStorage/hello.txt\")\n",
    "text.take(5)"
   ]
  },
  {
   "cell_type": "markdown",
   "id": "61508de2-3102-493d-b8ee-b05f441dc341",
   "metadata": {},
   "source": [
    "# Reading COVID19 HK dataset"
   ]
  },
  {
   "cell_type": "code",
   "execution_count": 6,
   "id": "6ff382d8-2b70-477c-a1f2-6f48a85950be",
   "metadata": {},
   "outputs": [],
   "source": [
    "from pyspark.sql import SparkSession\n",
    "\n",
    "spark = SparkSession.builder.getOrCreate()"
   ]
  },
  {
   "cell_type": "code",
   "execution_count": 7,
   "id": "efb43657-a5d3-447a-bf1a-3b8015b94879",
   "metadata": {},
   "outputs": [
    {
     "data": {
      "text/plain": [
       "[Row(Case no.=1, Report date='23/01/2020', Date of onset='21/01/2020', Gender='M', Age=39, Name of hospital admitted=None, Hospitalised/Discharged/Deceased='Discharged', HK/Non-HK resident='Non-HK resident', Case classification*='Imported case', Confirmed/probable='Confirmed'),\n",
       " Row(Case no.=2, Report date='23/01/2020', Date of onset='18/01/2020', Gender='M', Age=56, Name of hospital admitted=None, Hospitalised/Discharged/Deceased='Discharged', HK/Non-HK resident='HK resident', Case classification*='Imported case', Confirmed/probable='Confirmed'),\n",
       " Row(Case no.=3, Report date='24/01/2020', Date of onset='20/01/2020', Gender='F', Age=62, Name of hospital admitted=None, Hospitalised/Discharged/Deceased='Discharged', HK/Non-HK resident='Non-HK resident', Case classification*='Imported case', Confirmed/probable='Confirmed')]"
      ]
     },
     "execution_count": 7,
     "metadata": {},
     "output_type": "execute_result"
    }
   ],
   "source": [
    "# Commands for reading DataTap file.\n",
    "# text = sc.textFile(\"dtap://TenantStorage/hello.txt\")\n",
    "# text.take(5)\n",
    "\n",
    "df = spark.read.csv('dtap://TenantStorage/enhanced_sur_covid_19_eng.csv', header=True, inferSchema=True)\n",
    "df.take(3)"
   ]
  },
  {
   "cell_type": "code",
   "execution_count": 8,
   "id": "237f944f-6b32-4daa-b104-e20a70ea2fe6",
   "metadata": {},
   "outputs": [
    {
     "name": "stdout",
     "output_type": "stream",
     "text": [
      "root\n",
      " |-- Case no.: integer (nullable = true)\n",
      " |-- Report date: string (nullable = true)\n",
      " |-- Date of onset: string (nullable = true)\n",
      " |-- Gender: string (nullable = true)\n",
      " |-- Age: integer (nullable = true)\n",
      " |-- Name of hospital admitted: string (nullable = true)\n",
      " |-- Hospitalised/Discharged/Deceased: string (nullable = true)\n",
      " |-- HK/Non-HK resident: string (nullable = true)\n",
      " |-- Case classification*: string (nullable = true)\n",
      " |-- Confirmed/probable: string (nullable = true)\n",
      "\n",
      "+--------+-----------+-------------+------+---+-------------------------+--------------------------------+------------------+--------------------+------------------+\n",
      "|Case no.|Report date|Date of onset|Gender|Age|Name of hospital admitted|Hospitalised/Discharged/Deceased|HK/Non-HK resident|Case classification*|Confirmed/probable|\n",
      "+--------+-----------+-------------+------+---+-------------------------+--------------------------------+------------------+--------------------+------------------+\n",
      "|       1| 23/01/2020|   21/01/2020|     M| 39|                     null|                      Discharged|   Non-HK resident|       Imported case|         Confirmed|\n",
      "|       2| 23/01/2020|   18/01/2020|     M| 56|                     null|                      Discharged|       HK resident|       Imported case|         Confirmed|\n",
      "|       3| 24/01/2020|   20/01/2020|     F| 62|                     null|                      Discharged|   Non-HK resident|       Imported case|         Confirmed|\n",
      "|       4| 24/01/2020|   23/01/2020|     F| 62|                     null|                      Discharged|   Non-HK resident|       Imported case|         Confirmed|\n",
      "|       5| 24/01/2020|   23/01/2020|     M| 63|                     null|                      Discharged|   Non-HK resident|       Imported case|         Confirmed|\n",
      "+--------+-----------+-------------+------+---+-------------------------+--------------------------------+------------------+--------------------+------------------+\n",
      "only showing top 5 rows\n",
      "\n"
     ]
    },
    {
     "data": {
      "text/plain": [
       "11879"
      ]
     },
     "execution_count": 8,
     "metadata": {},
     "output_type": "execute_result"
    }
   ],
   "source": [
    "df.printSchema()\n",
    "df.show(5) # show top 5 result\n",
    "df.count() # return number of data"
   ]
  },
  {
   "cell_type": "code",
   "execution_count": 9,
   "id": "2fac359a-610b-4f9b-aeb3-ba336e6f80ca",
   "metadata": {},
   "outputs": [
    {
     "name": "stdout",
     "output_type": "stream",
     "text": [
      "+--------+------+---+\n",
      "|Case no.|Gender|Age|\n",
      "+--------+------+---+\n",
      "|    1365|     M| 94|\n",
      "|    1612|     M| 94|\n",
      "|    3122|     M| 94|\n",
      "|    3734|     M| 95|\n",
      "|    4256|     M| 94|\n",
      "|    8444|     M| 95|\n",
      "|    9062|     M| 95|\n",
      "|    9665|     M| 94|\n",
      "|    9677|     M| 94|\n",
      "+--------+------+---+\n",
      "\n"
     ]
    },
    {
     "data": {
      "text/plain": [
       "9"
      ]
     },
     "execution_count": 9,
     "metadata": {},
     "output_type": "execute_result"
    }
   ],
   "source": [
    "Male_Agedgt93_df = df.select(df[\"`Case no.`\"], df[\"Gender\"], df[\"Age\"]).filter('Age > 93').filter('Gender = \"M\"')\n",
    "Male_Agedgt93_df.show()\n",
    "Male_Agedgt93_df.count()"
   ]
  },
  {
   "cell_type": "code",
   "execution_count": 10,
   "id": "995f1cab-c9e1-4d43-a4c2-65e4780b71a6",
   "metadata": {},
   "outputs": [
    {
     "name": "stdout",
     "output_type": "stream",
     "text": [
      "+--------+-----------+-------------+------+---+-------------------------+--------------------------------+------------------+--------------------+------------------+\n",
      "|Case no.|Report date|Date of onset|Gender|Age|Name of hospital admitted|Hospitalised/Discharged/Deceased|HK/Non-HK resident|Case classification*|Confirmed/probable|\n",
      "+--------+-----------+-------------+------+---+-------------------------+--------------------------------+------------------+--------------------+------------------+\n",
      "|    2000| 21/07/2020|   17/07/2020|     M| 61|                     null|                      Discharged|       HK resident|          Local case|         Confirmed|\n",
      "+--------+-----------+-------------+------+---+-------------------------+--------------------------------+------------------+--------------------+------------------+\n",
      "\n"
     ]
    }
   ],
   "source": [
    "Case2000_df = df.filter(\"`Case no.` = 2000\")\n",
    "Case2000_df.show()"
   ]
  },
  {
   "cell_type": "code",
   "execution_count": 17,
   "id": "ca7c7f13-0ae5-4b70-9a89-37e3a4780c87",
   "metadata": {},
   "outputs": [
    {
     "name": "stdout",
     "output_type": "stream",
     "text": [
      "+------+-----------------+\n",
      "|Gender|         avg(Age)|\n",
      "+------+-----------------+\n",
      "|     F|44.45564516129032|\n",
      "|     M|43.82320831132242|\n",
      "+------+-----------------+\n",
      "\n"
     ]
    }
   ],
   "source": [
    "df.groupBy(\"Gender\").mean(\"Age\").show()"
   ]
  },
  {
   "cell_type": "code",
   "execution_count": 11,
   "id": "828e3c7a-e7eb-4924-88d5-5d9d395387b3",
   "metadata": {},
   "outputs": [
    {
     "name": "stdout",
     "output_type": "stream",
     "text": [
      "+-------------------------------------------------+\n",
      "|Case classification*                             |\n",
      "+-------------------------------------------------+\n",
      "|Local case                                       |\n",
      "|Epidemiologically linked with imported case      |\n",
      "|Epidemiologically linked with possibly local case|\n",
      "|Epidemiologically linked with local case         |\n",
      "|Imported case                                    |\n",
      "|Possibly local case                              |\n",
      "+-------------------------------------------------+\n",
      "\n"
     ]
    }
   ],
   "source": [
    "Case_Classification_df = df.select(df[\"Case classification*\"]).distinct()\n",
    "Case_Classification_df.show(truncate = False)"
   ]
  },
  {
   "cell_type": "code",
   "execution_count": 12,
   "id": "a6a59952-c960-404a-b942-a635a6c656b6",
   "metadata": {},
   "outputs": [],
   "source": [
    "from pyspark.sql.functions import round, asc"
   ]
  },
  {
   "cell_type": "code",
   "execution_count": 13,
   "id": "9c9e107b-8d64-4e38-8d6c-ffa622358a9c",
   "metadata": {},
   "outputs": [
    {
     "name": "stdout",
     "output_type": "stream",
     "text": [
      "+--------+-----+\n",
      "|RoundAge|count|\n",
      "+--------+-----+\n",
      "|     0.0|  290|\n",
      "|    10.0|  477|\n",
      "|    20.0| 1205|\n",
      "|    30.0| 2017|\n",
      "|    40.0| 2153|\n",
      "|    50.0| 1845|\n",
      "|    60.0| 1946|\n",
      "|    70.0| 1236|\n",
      "|    80.0|  480|\n",
      "|    90.0|  211|\n",
      "|   100.0|   19|\n",
      "+--------+-----+\n",
      "\n"
     ]
    }
   ],
   "source": [
    "df_roundAge = df.select(\"*\",(10*round(df[\"Age\"]/10,0)).alias(\"RoundAge\"))\n",
    "df_roundAge.groupBy(\"RoundAge\").count().sort(asc(\"RoundAge\")).show()"
   ]
  },
  {
   "cell_type": "markdown",
   "id": "340b753f-9c81-4b18-abd6-83cf2d0a5c83",
   "metadata": {},
   "source": [
    "# Visualizing the plot using Matplotlib"
   ]
  },
  {
   "cell_type": "code",
   "execution_count": 14,
   "id": "0102b5e0-baa3-4a3f-9749-fdc4e7ef089b",
   "metadata": {},
   "outputs": [],
   "source": [
    "import matplotlib.pyplot as plt"
   ]
  },
  {
   "cell_type": "code",
   "execution_count": 15,
   "id": "cef504c9-291e-480c-944e-183006913cdb",
   "metadata": {},
   "outputs": [],
   "source": [
    "pandas_age = df.select(\"Age\").toPandas()"
   ]
  },
  {
   "cell_type": "code",
   "execution_count": 16,
   "id": "29b5df49-4d16-4c12-9b8d-a02006a10bb3",
   "metadata": {},
   "outputs": [
    {
     "data": {
      "image/png": "[encoded data removed]",
      "text/plain": [
       "<Figure size 432x288 with 1 Axes>"
      ]
     },
     "metadata": {
      "needs_background": "light"
     },
     "output_type": "display_data"
    }
   ],
   "source": [
    "def pd_plt_histogram_df(inData_df_ary, num_bins, isDensity, text_xLabel, text_yLabel, text_title):\n",
    "    # pd_plt_histogram_df(pandas_age[\"Age\"], 50, False, 'Age', 'Number of cases', 'Histogram of case')\n",
    "\n",
    "    # the histogram of the data\n",
    "    n, bins, patches = plt.hist(inData_df_ary, num_bins, density=isDensity)\n",
    "\n",
    "    plt.xlabel(text_xLabel)\n",
    "    plt.ylabel(text_yLabel)\n",
    "    plt.title(text_title)\n",
    "    plt.show()\n",
    "pd_plt_histogram_df(pandas_age[\"Age\"], 50, False, 'Age', 'Number of cases', 'Histogram of case')"
   ]
  },
  {
   "cell_type": "code",
   "execution_count": null,
   "id": "9deb8aba-4a6b-4e3f-a453-ed1267f21742",
   "metadata": {},
   "outputs": [],
   "source": []
  }
 ],
 "metadata": {
  "kernelspec": {
   "display_name": "Python 3",
   "language": "python",
   "name": "python3"
  },
  "language_info": {
   "codemirror_mode": {
    "name": "ipython",
    "version": 3
   },
   "file_extension": ".py",
   "mimetype": "text/x-python",
   "name": "python",
   "nbconvert_exporter": "python",
   "pygments_lexer": "ipython3",
   "version": "3.7.3"
  }
 },
 "nbformat": 4,
 "nbformat_minor": 5
}
